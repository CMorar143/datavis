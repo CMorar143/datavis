{
 "cells": [
  {
   "cell_type": "code",
   "execution_count": 1,
   "metadata": {},
   "outputs": [
    {
     "name": "stderr",
     "output_type": "stream",
     "text": [
      "Warning message in scan(file = file, what = what, sep = sep, quote = quote, dec = dec, :\n",
      "\"invalid input found on input connection 'count.csv'\"\n"
     ]
    }
   ],
   "source": [
    "countdf = read.csv('count.csv', header=TRUE, sep=',', fileEncoding=\"latin1\")"
   ]
  },
  {
   "cell_type": "code",
   "execution_count": 2,
   "metadata": {},
   "outputs": [
    {
     "name": "stderr",
     "output_type": "stream",
     "text": [
      "Warning message in scan(file = file, what = what, sep = sep, quote = quote, dec = dec, :\n",
      "\"invalid input found on input connection 'candidate.csv'\"\n"
     ]
    }
   ],
   "source": [
    "canddf = read.csv('candidate.csv', header=TRUE, sep=',', fileEncoding=\"latin1\")"
   ]
  },
  {
   "cell_type": "code",
   "execution_count": 3,
   "metadata": {},
   "outputs": [],
   "source": [
    "constdf = read.csv('constituency.csv', header=TRUE, sep=',', fileEncoding=\"latin1\")"
   ]
  },
  {
   "cell_type": "code",
   "execution_count": 4,
   "metadata": {},
   "outputs": [],
   "source": [
    "library(plyr)"
   ]
  },
  {
   "cell_type": "code",
   "execution_count": 5,
   "metadata": {},
   "outputs": [
    {
     "name": "stderr",
     "output_type": "stream",
     "text": [
      "Installing package into 'C:/Users/Cian Morar/Documents/R/win-library/3.6'\n",
      "(as 'lib' is unspecified)\n",
      "\n"
     ]
    },
    {
     "name": "stdout",
     "output_type": "stream",
     "text": [
      "package 'dplyr' successfully unpacked and MD5 sums checked\n"
     ]
    },
    {
     "name": "stderr",
     "output_type": "stream",
     "text": [
      "Warning message:\n",
      "\"cannot remove prior installation of package 'dplyr'\"\n",
      "Warning message in file.copy(savedcopy, lib, recursive = TRUE):\n",
      "\"problem copying C:\\Users\\Cian Morar\\Documents\\R\\win-library\\3.6\\00LOCK\\dplyr\\libs\\x64\\dplyr.dll to C:\\Users\\Cian Morar\\Documents\\R\\win-library\\3.6\\dplyr\\libs\\x64\\dplyr.dll: Permission denied\"\n",
      "Warning message:\n",
      "\"restored 'dplyr'\"\n"
     ]
    },
    {
     "name": "stdout",
     "output_type": "stream",
     "text": [
      "\n",
      "The downloaded binary packages are in\n",
      "\tC:\\Users\\Cian Morar\\AppData\\Local\\Temp\\Rtmp6VIRo8\\downloaded_packages\n"
     ]
    }
   ],
   "source": [
    "install.packages(\"dplyr\")"
   ]
  },
  {
   "cell_type": "code",
   "execution_count": 6,
   "metadata": {},
   "outputs": [
    {
     "name": "stderr",
     "output_type": "stream",
     "text": [
      "\n",
      "Attaching package: 'dplyr'\n",
      "\n",
      "\n",
      "The following objects are masked from 'package:plyr':\n",
      "\n",
      "    arrange, count, desc, failwith, id, mutate, rename, summarise,\n",
      "    summarize\n",
      "\n",
      "\n",
      "The following objects are masked from 'package:stats':\n",
      "\n",
      "    filter, lag\n",
      "\n",
      "\n",
      "The following objects are masked from 'package:base':\n",
      "\n",
      "    intersect, setdiff, setequal, union\n",
      "\n",
      "\n"
     ]
    }
   ],
   "source": [
    "library(dplyr)"
   ]
  },
  {
   "cell_type": "code",
   "execution_count": 7,
   "metadata": {},
   "outputs": [
    {
     "name": "stderr",
     "output_type": "stream",
     "text": [
      "Installing package into 'C:/Users/Cian Morar/Documents/R/win-library/3.6'\n",
      "(as 'lib' is unspecified)\n",
      "\n",
      "Warning message:\n",
      "\"package 'plyr' is in use and will not be installed\"\n"
     ]
    }
   ],
   "source": [
    "install.packages(\"plyr\")"
   ]
  },
  {
   "cell_type": "code",
   "execution_count": 8,
   "metadata": {},
   "outputs": [],
   "source": [
    "library(plyr)"
   ]
  },
  {
   "cell_type": "code",
   "execution_count": 9,
   "metadata": {},
   "outputs": [
    {
     "data": {
      "text/html": [
       "<table>\n",
       "<caption>A data.frame: 14 × 2</caption>\n",
       "<thead>\n",
       "\t<tr><th></th><th scope=col>Surname</th><th scope=col>First.Name</th></tr>\n",
       "\t<tr><th></th><th scope=col>&lt;fct&gt;</th><th scope=col>&lt;fct&gt;</th></tr>\n",
       "</thead>\n",
       "<tbody>\n",
       "\t<tr><th scope=row>32</th><td>Browne </td><td>James   </td></tr>\n",
       "\t<tr><th scope=row>44</th><td>Byrne  </td><td>Aoife   </td></tr>\n",
       "\t<tr><th scope=row>47</th><td>Byrne  </td><td>Malcolm </td></tr>\n",
       "\t<tr><th scope=row>59</th><td>Carthy </td><td>Ger     </td></tr>\n",
       "\t<tr><th scope=row>115</th><td>D'arcy </td><td>Michael </td></tr>\n",
       "\t<tr><th scope=row>144</th><td>Dwyer  </td><td>John    </td></tr>\n",
       "\t<tr><th scope=row>180</th><td>Foxe   </td><td>Caroline</td></tr>\n",
       "\t<tr><th scope=row>234</th><td>Hogan  </td><td>Julie   </td></tr>\n",
       "\t<tr><th scope=row>241</th><td>Howlin </td><td>Brendan </td></tr>\n",
       "\t<tr><th scope=row>257</th><td>Kehoe  </td><td>Paul    </td></tr>\n",
       "\t<tr><th scope=row>263</th><td>Kelly  </td><td>Leonard </td></tr>\n",
       "\t<tr><th scope=row>286</th><td>Lloyd  </td><td>David   </td></tr>\n",
       "\t<tr><th scope=row>303</th><td>Maloney</td><td>David   </td></tr>\n",
       "\t<tr><th scope=row>382</th><td>Mythen </td><td>John    </td></tr>\n",
       "</tbody>\n",
       "</table>\n"
      ],
      "text/latex": [
       "A data.frame: 14 × 2\n",
       "\\begin{tabular}{r|ll}\n",
       "  & Surname & First.Name\\\\\n",
       "  & <fct> & <fct>\\\\\n",
       "\\hline\n",
       "\t32 & Browne  & James   \\\\\n",
       "\t44 & Byrne   & Aoife   \\\\\n",
       "\t47 & Byrne   & Malcolm \\\\\n",
       "\t59 & Carthy  & Ger     \\\\\n",
       "\t115 & D'arcy  & Michael \\\\\n",
       "\t144 & Dwyer   & John    \\\\\n",
       "\t180 & Foxe    & Caroline\\\\\n",
       "\t234 & Hogan   & Julie   \\\\\n",
       "\t241 & Howlin  & Brendan \\\\\n",
       "\t257 & Kehoe   & Paul    \\\\\n",
       "\t263 & Kelly   & Leonard \\\\\n",
       "\t286 & Lloyd   & David   \\\\\n",
       "\t303 & Maloney & David   \\\\\n",
       "\t382 & Mythen  & John    \\\\\n",
       "\\end{tabular}\n"
      ],
      "text/markdown": [
       "\n",
       "A data.frame: 14 × 2\n",
       "\n",
       "| <!--/--> | Surname &lt;fct&gt; | First.Name &lt;fct&gt; |\n",
       "|---|---|---|\n",
       "| 32 | Browne  | James    |\n",
       "| 44 | Byrne   | Aoife    |\n",
       "| 47 | Byrne   | Malcolm  |\n",
       "| 59 | Carthy  | Ger      |\n",
       "| 115 | D'arcy  | Michael  |\n",
       "| 144 | Dwyer   | John     |\n",
       "| 180 | Foxe    | Caroline |\n",
       "| 234 | Hogan   | Julie    |\n",
       "| 241 | Howlin  | Brendan  |\n",
       "| 257 | Kehoe   | Paul     |\n",
       "| 263 | Kelly   | Leonard  |\n",
       "| 286 | Lloyd   | David    |\n",
       "| 303 | Maloney | David    |\n",
       "| 382 | Mythen  | John     |\n",
       "\n"
      ],
      "text/plain": [
       "    Surname First.Name\n",
       "32  Browne  James     \n",
       "44  Byrne   Aoife     \n",
       "47  Byrne   Malcolm   \n",
       "59  Carthy  Ger       \n",
       "115 D'arcy  Michael   \n",
       "144 Dwyer   John      \n",
       "180 Foxe    Caroline  \n",
       "234 Hogan   Julie     \n",
       "241 Howlin  Brendan   \n",
       "257 Kehoe   Paul      \n",
       "263 Kelly   Leonard   \n",
       "286 Lloyd   David     \n",
       "303 Maloney David     \n",
       "382 Mythen  John      "
      ]
     },
     "metadata": {},
     "output_type": "display_data"
    }
   ],
   "source": [
    "#Part 2 A\n",
    "canddf[c('Surname', 'First.Name')][canddf$Constituency == 'Wexford', ]"
   ]
  },
  {
   "cell_type": "code",
   "execution_count": 10,
   "metadata": {},
   "outputs": [
    {
     "data": {
      "text/html": [
       "<table>\n",
       "<caption>A tibble: 1 × 2</caption>\n",
       "<thead>\n",
       "\t<tr><th scope=col>\"Constituency\"</th><th scope=col>n</th></tr>\n",
       "\t<tr><th scope=col>&lt;chr&gt;</th><th scope=col>&lt;int&gt;</th></tr>\n",
       "</thead>\n",
       "<tbody>\n",
       "\t<tr><td>Constituency</td><td>4</td></tr>\n",
       "</tbody>\n",
       "</table>\n"
      ],
      "text/latex": [
       "A tibble: 1 × 2\n",
       "\\begin{tabular}{ll}\n",
       " \"Constituency\" & n\\\\\n",
       " <chr> & <int>\\\\\n",
       "\\hline\n",
       "\t Constituency & 4\\\\\n",
       "\\end{tabular}\n"
      ],
      "text/markdown": [
       "\n",
       "A tibble: 1 × 2\n",
       "\n",
       "| \"Constituency\" &lt;chr&gt; | n &lt;int&gt; |\n",
       "|---|---|\n",
       "| Constituency | 4 |\n",
       "\n"
      ],
      "text/plain": [
       "  \"Constituency\" n\n",
       "1 Constituency   4"
      ]
     },
     "metadata": {},
     "output_type": "display_data"
    }
   ],
   "source": [
    "#Part 2 B\n",
    "library(plyr)\n",
    "count(canddf[canddf$Constituency == 'Laois', ], 'Constituency', )"
   ]
  },
  {
   "cell_type": "code",
   "execution_count": 11,
   "metadata": {},
   "outputs": [
    {
     "data": {
      "text/html": [
       "<table>\n",
       "<caption>A tibble: 1 × 2</caption>\n",
       "<thead>\n",
       "\t<tr><th scope=col>\"Constituency\"</th><th scope=col>n</th></tr>\n",
       "\t<tr><th scope=col>&lt;chr&gt;</th><th scope=col>&lt;int&gt;</th></tr>\n",
       "</thead>\n",
       "<tbody>\n",
       "\t<tr><td>Constituency</td><td>40</td></tr>\n",
       "</tbody>\n",
       "</table>\n"
      ],
      "text/latex": [
       "A tibble: 1 × 2\n",
       "\\begin{tabular}{ll}\n",
       " \"Constituency\" & n\\\\\n",
       " <chr> & <int>\\\\\n",
       "\\hline\n",
       "\t Constituency & 40\\\\\n",
       "\\end{tabular}\n"
      ],
      "text/markdown": [
       "\n",
       "A tibble: 1 × 2\n",
       "\n",
       "| \"Constituency\" &lt;chr&gt; | n &lt;int&gt; |\n",
       "|---|---|\n",
       "| Constituency | 40 |\n",
       "\n"
      ],
      "text/plain": [
       "  \"Constituency\" n \n",
       "1 Constituency   40"
      ]
     },
     "metadata": {},
     "output_type": "display_data"
    }
   ],
   "source": [
    "#Part 2 C\n",
    "library(dplyr)\n",
    "count(distinct(canddf[c('Constituency')]), 'Constituency', )"
   ]
  },
  {
   "cell_type": "code",
   "execution_count": 12,
   "metadata": {},
   "outputs": [
    {
     "data": {
      "text/html": [
       "<table>\n",
       "<caption>A tibble: 1 × 2</caption>\n",
       "<thead>\n",
       "\t<tr><th scope=col>\"Constituency.Name\"</th><th scope=col>n</th></tr>\n",
       "\t<tr><th scope=col>&lt;chr&gt;</th><th scope=col>&lt;int&gt;</th></tr>\n",
       "</thead>\n",
       "<tbody>\n",
       "\t<tr><td>Constituency.Name</td><td>40</td></tr>\n",
       "</tbody>\n",
       "</table>\n"
      ],
      "text/latex": [
       "A tibble: 1 × 2\n",
       "\\begin{tabular}{ll}\n",
       " \"Constituency.Name\" & n\\\\\n",
       " <chr> & <int>\\\\\n",
       "\\hline\n",
       "\t Constituency.Name & 40\\\\\n",
       "\\end{tabular}\n"
      ],
      "text/markdown": [
       "\n",
       "A tibble: 1 × 2\n",
       "\n",
       "| \"Constituency.Name\" &lt;chr&gt; | n &lt;int&gt; |\n",
       "|---|---|\n",
       "| Constituency.Name | 40 |\n",
       "\n"
      ],
      "text/plain": [
       "  \"Constituency.Name\" n \n",
       "1 Constituency.Name   40"
      ]
     },
     "metadata": {},
     "output_type": "display_data"
    }
   ],
   "source": [
    "#Part 3\n",
    "count(distinct(constdf[c('Constituency.Name')]), 'Constituency.Name', )"
   ]
  },
  {
   "cell_type": "code",
   "execution_count": 13,
   "metadata": {},
   "outputs": [],
   "source": [
    "#Part 5\n",
    "a <- count(countdf[countdf$Constituency.Name == 'Laois', ], 'Candidate.surname', )"
   ]
  },
  {
   "cell_type": "code",
   "execution_count": 14,
   "metadata": {},
   "outputs": [
    {
     "ename": "ERROR",
     "evalue": "Error in UseMethod(\"distinct_\"): no applicable method for 'distinct_' applied to an object of class \"factor\"\n",
     "output_type": "error",
     "traceback": [
      "Error in UseMethod(\"distinct_\"): no applicable method for 'distinct_' applied to an object of class \"factor\"\nTraceback:\n",
      "1. count(distinct(countdf[c(\"Constituency.Name\")][countdf$Constituency.Name == \n .     \"Laois\", ]), \"Candidate.Name\", )",
      "2. group_vars(x)",
      "3. distinct(countdf[c(\"Constituency.Name\")][countdf$Constituency.Name == \n .     \"Laois\", ])",
      "4. distinct.default(countdf[c(\"Constituency.Name\")][countdf$Constituency.Name == \n .     \"Laois\", ])",
      "5. distinct_(.data, .dots = compat_as_lazy_dots(...), .keep_all = .keep_all)"
     ]
    }
   ],
   "source": [
    "# count(distinct(countdf[countdf$Constituency.Name == 'Laois', ]), 'Constituency.Name', )\n",
    "count(distinct(countdf[c('Constituency.Name')][countdf$Constituency.Name == 'Laois', ]), 'Candidate.Name' , )"
   ]
  },
  {
   "cell_type": "code",
   "execution_count": null,
   "metadata": {},
   "outputs": [],
   "source": [
    "canddf"
   ]
  },
  {
   "cell_type": "code",
   "execution_count": null,
   "metadata": {},
   "outputs": [],
   "source": []
  }
 ],
 "metadata": {
  "kernelspec": {
   "display_name": "R",
   "language": "R",
   "name": "ir"
  },
  "language_info": {
   "codemirror_mode": "r",
   "file_extension": ".r",
   "mimetype": "text/x-r-source",
   "name": "R",
   "pygments_lexer": "r",
   "version": "3.6.2"
  }
 },
 "nbformat": 4,
 "nbformat_minor": 4
}
