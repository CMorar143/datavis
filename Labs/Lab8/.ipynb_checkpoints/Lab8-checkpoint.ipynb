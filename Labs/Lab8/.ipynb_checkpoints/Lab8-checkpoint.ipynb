{
 "cells": [
  {
   "cell_type": "code",
   "execution_count": null,
   "metadata": {},
   "outputs": [],
   "source": [
    "# Install\n",
    "# install.packages(\"tm\")  # for text mining\n",
    "# install.packages(\"SnowballC\") # for text stemming\n",
    "# install.packages(\"wordcloud\") # word-cloud generator \n",
    "# install.packages(\"RColorBrewer\") # color palettes\n",
    "# Load\n",
    "library(\"tm\")\n",
    "library(\"SnowballC\")\n",
    "library(\"wordcloud\")\n",
    "library(\"RColorBrewer\")"
   ]
  },
  {
   "cell_type": "code",
   "execution_count": null,
   "metadata": {},
   "outputs": [],
   "source": [
    "# Step 3\n",
    "# filePath <- './Data/kennedy_moon_speech.txt'\n",
    "# filePath\n",
    "# text <- readLines('./Data/kennedy_moon_speech.txt')\n",
    "\n",
    "filePath <- \"https://raw.githubusercontent.com/CMorar143/datavis/master/Labs/Lab8/Data/kennedy_moon_speech.txt\"\n",
    "text <- readLines(filePath)"
   ]
  },
  {
   "cell_type": "code",
   "execution_count": null,
   "metadata": {},
   "outputs": [],
   "source": [
    "docs <- Corpus(VectorSource(text))\n",
    "#VectorSource() function creates a corpus of character vectors"
   ]
  },
  {
   "cell_type": "code",
   "execution_count": null,
   "metadata": {},
   "outputs": [],
   "source": [
    "# Step 4\n",
    "inspect(docs)"
   ]
  },
  {
   "cell_type": "code",
   "execution_count": null,
   "metadata": {},
   "outputs": [],
   "source": [
    "# Step 5\n",
    "# toSpace <- content_transformer(function (x , pattern ) gsub(pattern, \" \", x))\n",
    "# docs <- tm_map(docs, toSpace, \"/\")\n",
    "# docs <- tm_map(docs, toSpace, \"@\")\n",
    "# docs <- tm_map(docs, toSpace, \"\\\\|\")\n",
    "                               \n",
    "# Convert the text to lower case\n",
    "docs <- tm_map(docs, content_transformer(tolower))\n",
    "                               \n",
    "# Remove numbers\n",
    "docs <- tm_map(docs, removeNumbers)\n",
    "                               \n",
    "# Remove english common stopwords\n",
    "docs <- tm_map(docs, removeWords, stopwords(\"english\"))\n",
    "                               \n",
    "# Remove punctuations\n",
    "docs <- tm_map(docs, removePunctuation)\n",
    "                               \n",
    "# Eliminate extra white spaces\n",
    "docs <- tm_map(docs, stripWhitespace)\n",
    "                               \n",
    "# Step 6\n",
    "inspect(docs)"
   ]
  },
  {
   "cell_type": "code",
   "execution_count": null,
   "metadata": {},
   "outputs": [],
   "source": [
    "# Step 7\n",
    "dtm <- TermDocumentMatrix(docs)\n",
    "m <- as.matrix(dtm)\n",
    "v <- sort(rowSums(m),decreasing=TRUE)\n",
    "d <- data.frame(word = names(v),freq=v)\n",
    "head(d, 10)\n",
    "\n",
    "set.seed(1234)# This makes the cloud reproducable.\n",
    "\n",
    "wordcloud(words = d$word, freq = d$freq, min.freq = 1,\n",
    "          max.words=200, random.order=FALSE, rot.per=0.35, \n",
    "          colors=brewer.pal(8, \"Dark2\"))"
   ]
  },
  {
   "cell_type": "code",
   "execution_count": null,
   "metadata": {},
   "outputs": [],
   "source": [
    "# Step 8\n",
    "findFreqTerms(dtm, lowfreq = 4)\n",
    "findAssocs(dtm, terms = \"freedom\", corlimit = 0.3)\n",
    "barplot(d[1:10,]$freq, las = 2, names.arg = d[1:10,]$word,\n",
    "        col =\"lightblue\", main =\"Most frequent words\",\n",
    "        ylab = \"Word frequencies\")"
   ]
  },
  {
   "cell_type": "code",
   "execution_count": null,
   "metadata": {},
   "outputs": [],
   "source": [
    "# Task 2\n",
    "# Step 1\n",
    "filePath <- \"https://raw.githubusercontent.com/CMorar143/datavis/master/Labs/Lab8/Data/kennedy_moon_speech.txt\"\n",
    "file_name <- readLines(filePath)\n",
    "\n",
    "produce_cloud <- function(file_name) {\n",
    "    docs <- Corpus(VectorSource(text))\n",
    "    # Convert the text to lower case\n",
    "    docs <- tm_map(docs, content_transformer(tolower))\n",
    "\n",
    "    # Remove numbers\n",
    "    docs <- tm_map(docs, removeNumbers)\n",
    "\n",
    "    # Remove english common stopwords\n",
    "    docs <- tm_map(docs, removeWords, stopwords(\"english\"))\n",
    "\n",
    "    # Remove punctuations\n",
    "    docs <- tm_map(docs, removePunctuation)\n",
    "\n",
    "    # Eliminate extra white spaces\n",
    "    docs <- tm_map(docs, stripWhitespace)\n",
    "    \n",
    "    dtm <- TermDocumentMatrix(docs)\n",
    "    m <- as.matrix(dtm)\n",
    "    v <- sort(rowSums(m),decreasing=TRUE)\n",
    "    d <- data.frame(word = names(v),freq=v)\n",
    "    head(d, 10)\n",
    "\n",
    "    set.seed(1234)# This makes the cloud reproducable.\n",
    "\n",
    "    wordcloud(words = d$word, freq = d$freq, min.freq = 1,\n",
    "              max.words=200, random.order=FALSE, rot.per=0.35, \n",
    "              colors=brewer.pal(8, \"Dark2\"))\n",
    "    findFreqTerms(dtm, lowfreq = 4)\n",
    "    findAssocs(dtm, terms = \"freedom\", corlimit = 0.3)\n",
    "    barplot(d[1:10,]$freq, las = 2, names.arg = d[1:10,]$word,\n",
    "            col =\"lightblue\", main =\"Most frequent words\",\n",
    "            ylab = \"Word frequencies\")\n",
    "}\n",
    "\n",
    "search('Louth')"
   ]
  }
 ],
 "metadata": {
  "kernelspec": {
   "display_name": "R",
   "language": "R",
   "name": "ir"
  },
  "language_info": {
   "codemirror_mode": "r",
   "file_extension": ".r",
   "mimetype": "text/x-r-source",
   "name": "R",
   "pygments_lexer": "r",
   "version": "3.6.2"
  }
 },
 "nbformat": 4,
 "nbformat_minor": 4
}
