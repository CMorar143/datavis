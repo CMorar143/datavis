{
 "cells": [
  {
   "cell_type": "code",
   "execution_count": 1,
   "metadata": {},
   "outputs": [],
   "source": [
    "# Name: Cian Morar\n",
    "# Student Num: C16460726"
   ]
  },
  {
   "cell_type": "code",
   "execution_count": 2,
   "metadata": {
    "scrolled": true
   },
   "outputs": [
    {
     "name": "stderr",
     "output_type": "stream",
     "text": [
      "Installing package into 'C:/Users/Cian Morar/Documents/R/win-library/4.0'\n",
      "(as 'lib' is unspecified)\n",
      "\n"
     ]
    },
    {
     "name": "stdout",
     "output_type": "stream",
     "text": [
      "package 'plyr' successfully unpacked and MD5 sums checked\n",
      "\n",
      "The downloaded binary packages are in\n",
      "\tC:\\Users\\Cian Morar\\AppData\\Local\\Temp\\Rtmp487ARw\\downloaded_packages\n"
     ]
    },
    {
     "name": "stderr",
     "output_type": "stream",
     "text": [
      "Installing package into 'C:/Users/Cian Morar/Documents/R/win-library/4.0'\n",
      "(as 'lib' is unspecified)\n",
      "\n",
      "also installing the dependencies 'tidyselect', 'plogr'\n",
      "\n",
      "\n"
     ]
    },
    {
     "name": "stdout",
     "output_type": "stream",
     "text": [
      "package 'tidyselect' successfully unpacked and MD5 sums checked\n",
      "package 'plogr' successfully unpacked and MD5 sums checked\n",
      "package 'dplyr' successfully unpacked and MD5 sums checked\n",
      "\n",
      "The downloaded binary packages are in\n",
      "\tC:\\Users\\Cian Morar\\AppData\\Local\\Temp\\Rtmp487ARw\\downloaded_packages\n"
     ]
    },
    {
     "name": "stderr",
     "output_type": "stream",
     "text": [
      "Installing package into 'C:/Users/Cian Morar/Documents/R/win-library/4.0'\n",
      "(as 'lib' is unspecified)\n",
      "\n",
      "also installing the dependencies 'colorspace', 'farver', 'labeling', 'munsell', 'RColorBrewer', 'viridisLite', 'gtable', 'isoband', 'scales'\n",
      "\n",
      "\n"
     ]
    },
    {
     "name": "stdout",
     "output_type": "stream",
     "text": [
      "package 'colorspace' successfully unpacked and MD5 sums checked\n",
      "package 'farver' successfully unpacked and MD5 sums checked\n",
      "package 'labeling' successfully unpacked and MD5 sums checked\n",
      "package 'munsell' successfully unpacked and MD5 sums checked\n",
      "package 'RColorBrewer' successfully unpacked and MD5 sums checked\n",
      "package 'viridisLite' successfully unpacked and MD5 sums checked\n",
      "package 'gtable' successfully unpacked and MD5 sums checked\n",
      "package 'isoband' successfully unpacked and MD5 sums checked\n",
      "package 'scales' successfully unpacked and MD5 sums checked\n",
      "package 'ggplot2' successfully unpacked and MD5 sums checked\n",
      "\n",
      "The downloaded binary packages are in\n",
      "\tC:\\Users\\Cian Morar\\AppData\\Local\\Temp\\Rtmp487ARw\\downloaded_packages\n"
     ]
    },
    {
     "name": "stderr",
     "output_type": "stream",
     "text": [
      "Installing package into 'C:/Users/Cian Morar/Documents/R/win-library/4.0'\n",
      "(as 'lib' is unspecified)\n",
      "\n",
      "also installing the dependencies 'ggrepel', 'ggsci', 'tidyr', 'cowplot', 'ggsignif', 'gridExtra', 'polynom'\n",
      "\n",
      "\n"
     ]
    },
    {
     "name": "stdout",
     "output_type": "stream",
     "text": [
      "package 'ggrepel' successfully unpacked and MD5 sums checked\n",
      "package 'ggsci' successfully unpacked and MD5 sums checked\n",
      "package 'tidyr' successfully unpacked and MD5 sums checked\n",
      "package 'cowplot' successfully unpacked and MD5 sums checked\n",
      "package 'ggsignif' successfully unpacked and MD5 sums checked\n",
      "package 'gridExtra' successfully unpacked and MD5 sums checked\n",
      "package 'polynom' successfully unpacked and MD5 sums checked\n",
      "package 'ggpubr' successfully unpacked and MD5 sums checked\n",
      "\n",
      "The downloaded binary packages are in\n",
      "\tC:\\Users\\Cian Morar\\AppData\\Local\\Temp\\Rtmp487ARw\\downloaded_packages\n"
     ]
    },
    {
     "name": "stderr",
     "output_type": "stream",
     "text": [
      "Installing packages into 'C:/Users/Cian Morar/Documents/R/win-library/4.0'\n",
      "(as 'lib' is unspecified)\n",
      "\n",
      "also installing the dependencies 'rematch', 'tinytex', 'generics', 'reshape2', 'DBI', 'cellranger', 'progress', 'rmarkdown', 'selectr', 'broom', 'dbplyr', 'forcats', 'haven', 'hms', 'lubridate', 'modelr', 'readr', 'readxl', 'reprex', 'rvest'\n",
      "\n",
      "\n"
     ]
    },
    {
     "name": "stdout",
     "output_type": "stream",
     "text": [
      "\n",
      "  There is a binary version available but the source version is later:\n",
      "      binary source needs_compilation\n",
      "broom  0.5.5  0.5.6             FALSE\n",
      "\n",
      "package 'rematch' successfully unpacked and MD5 sums checked\n",
      "package 'tinytex' successfully unpacked and MD5 sums checked\n",
      "package 'generics' successfully unpacked and MD5 sums checked\n",
      "package 'reshape2' successfully unpacked and MD5 sums checked\n",
      "package 'DBI' successfully unpacked and MD5 sums checked\n",
      "package 'cellranger' successfully unpacked and MD5 sums checked\n",
      "package 'progress' successfully unpacked and MD5 sums checked\n",
      "package 'rmarkdown' successfully unpacked and MD5 sums checked\n",
      "package 'selectr' successfully unpacked and MD5 sums checked\n",
      "package 'dbplyr' successfully unpacked and MD5 sums checked\n",
      "package 'forcats' successfully unpacked and MD5 sums checked\n",
      "package 'haven' successfully unpacked and MD5 sums checked\n",
      "package 'hms' successfully unpacked and MD5 sums checked\n",
      "package 'lubridate' successfully unpacked and MD5 sums checked\n",
      "package 'modelr' successfully unpacked and MD5 sums checked\n",
      "package 'readr' successfully unpacked and MD5 sums checked\n",
      "package 'readxl' successfully unpacked and MD5 sums checked\n",
      "package 'reprex' successfully unpacked and MD5 sums checked\n",
      "package 'rvest' successfully unpacked and MD5 sums checked\n",
      "package 'Rcpp' successfully unpacked and MD5 sums checked\n"
     ]
    },
    {
     "name": "stderr",
     "output_type": "stream",
     "text": [
      "Warning message:\n",
      "\"cannot remove prior installation of package 'Rcpp'\"\n",
      "Warning message in file.copy(savedcopy, lib, recursive = TRUE):\n",
      "\"problem copying C:\\Users\\Cian Morar\\Documents\\R\\win-library\\4.0\\00LOCK\\Rcpp\\libs\\x64\\Rcpp.dll to C:\\Users\\Cian Morar\\Documents\\R\\win-library\\4.0\\Rcpp\\libs\\x64\\Rcpp.dll: Permission denied\"\n",
      "Warning message:\n",
      "\"restored 'Rcpp'\"\n"
     ]
    },
    {
     "name": "stdout",
     "output_type": "stream",
     "text": [
      "package 'tidyverse' successfully unpacked and MD5 sums checked\n",
      "\n",
      "The downloaded binary packages are in\n",
      "\tC:\\Users\\Cian Morar\\AppData\\Local\\Temp\\Rtmp487ARw\\downloaded_packages\n"
     ]
    },
    {
     "name": "stderr",
     "output_type": "stream",
     "text": [
      "installing the source package 'broom'\n",
      "\n",
      "\n",
      "Installing package into 'C:/Users/Cian Morar/Documents/R/win-library/4.0'\n",
      "(as 'lib' is unspecified)\n",
      "\n"
     ]
    },
    {
     "name": "stdout",
     "output_type": "stream",
     "text": [
      "package 'scales' successfully unpacked and MD5 sums checked\n",
      "\n",
      "The downloaded binary packages are in\n",
      "\tC:\\Users\\Cian Morar\\AppData\\Local\\Temp\\Rtmp487ARw\\downloaded_packages\n"
     ]
    }
   ],
   "source": [
    "# Install packages\n",
    "# install.packages(\"plyr\")\n",
    "# install.packages(\"dplyr\")\n",
    "# install.packages(\"ggplot2\")\n",
    "# install.packages(\"ggpubr\")\n",
    "# install.packages(c(\"Rcpp\",\"tidyverse\"))\n",
    "# install.packages(\"scales\")"
   ]
  },
  {
   "cell_type": "code",
   "execution_count": 4,
   "metadata": {},
   "outputs": [],
   "source": [
    "# Load in libraries\n",
    "library(plyr)\n",
    "library(dplyr)\n",
    "library(tidyverse)\n",
    "library(ggplot2)\n",
    "library(ggpubr)"
   ]
  },
  {
   "cell_type": "code",
   "execution_count": 6,
   "metadata": {},
   "outputs": [],
   "source": [
    "# Load in the datasets\n",
    "df1 = read.csv(\"./Data/National_Health_Interview_Survey_NHIS_National_Cardiovascular_Disease_Surveillance_Data.csv\", header=TRUE, sep=',', fileEncoding=\"latin1\")\n",
    "df2 = read.csv(\"./Data/Behavioral_Risk_Factor_Data_Heart_Disease_Stroke_Prevention.csv\", header=TRUE, sep=',', fileEncoding=\"latin1\")"
   ]
  },
  {
   "cell_type": "code",
   "execution_count": 7,
   "metadata": {},
   "outputs": [
    {
     "data": {
      "text/html": [
       "<table>\n",
       "<caption>A data.frame: 6 × 27</caption>\n",
       "<thead>\n",
       "\t<tr><th></th><th scope=col>Year</th><th scope=col>LocationAbbr</th><th scope=col>LocationDesc</th><th scope=col>DataSource</th><th scope=col>PriorityArea1</th><th scope=col>PriorityArea2</th><th scope=col>PriorityArea3</th><th scope=col>PriorityArea4</th><th scope=col>Category</th><th scope=col>Topic</th><th scope=col>...</th><th scope=col>Data_Value_Footnote</th><th scope=col>Confidence_limit_Low</th><th scope=col>Confidence_limit_High</th><th scope=col>CategoryId</th><th scope=col>TopicId</th><th scope=col>IndicatorID</th><th scope=col>BreakOutCategoryId</th><th scope=col>BreakOutId</th><th scope=col>LocationID</th><th scope=col>GeoLocation</th></tr>\n",
       "\t<tr><th></th><th scope=col>&lt;int&gt;</th><th scope=col>&lt;chr&gt;</th><th scope=col>&lt;chr&gt;</th><th scope=col>&lt;chr&gt;</th><th scope=col>&lt;chr&gt;</th><th scope=col>&lt;chr&gt;</th><th scope=col>&lt;chr&gt;</th><th scope=col>&lt;chr&gt;</th><th scope=col>&lt;chr&gt;</th><th scope=col>&lt;chr&gt;</th><th scope=col>...</th><th scope=col>&lt;lgl&gt;</th><th scope=col>&lt;dbl&gt;</th><th scope=col>&lt;dbl&gt;</th><th scope=col>&lt;chr&gt;</th><th scope=col>&lt;chr&gt;</th><th scope=col>&lt;chr&gt;</th><th scope=col>&lt;chr&gt;</th><th scope=col>&lt;chr&gt;</th><th scope=col>&lt;int&gt;</th><th scope=col>&lt;lgl&gt;</th></tr>\n",
       "</thead>\n",
       "<tbody>\n",
       "\t<tr><th scope=row>1</th><td>2000</td><td>MDW</td><td>Midwest</td><td>NHIS</td><td>Million HeartsÂ®</td><td>None</td><td>None</td><td>None</td><td>Cardiovascular Diseases</td><td>Coronary Heart Disease</td><td>...</td><td>NA</td><td>3.3</td><td>4.5</td><td>C1</td><td>T4</td><td>NS001</td><td>BOC04</td><td>RAC01</td><td>103</td><td>NA</td></tr>\n",
       "\t<tr><th scope=row>2</th><td>2000</td><td>MDW</td><td>Midwest</td><td>NHIS</td><td>Million HeartsÂ®</td><td>None</td><td>None</td><td>None</td><td>Cardiovascular Diseases</td><td>Coronary Heart Disease</td><td>...</td><td>NA</td><td>2.2</td><td>3.4</td><td>C1</td><td>T4</td><td>NS001</td><td>BOC02</td><td>GEN02</td><td>103</td><td>NA</td></tr>\n",
       "\t<tr><th scope=row>3</th><td>2000</td><td>MDW</td><td>Midwest</td><td>NHIS</td><td>Million HeartsÂ®</td><td>None</td><td>None</td><td>None</td><td>Cardiovascular Diseases</td><td>Coronary Heart Disease</td><td>...</td><td>NA</td><td>0.5</td><td>2.8</td><td>C1</td><td>T4</td><td>NS001</td><td>BOC04</td><td>RAC04</td><td>103</td><td>NA</td></tr>\n",
       "\t<tr><th scope=row>4</th><td>2000</td><td>MDW</td><td>Midwest</td><td>NHIS</td><td>Million HeartsÂ®</td><td>None</td><td>None</td><td>None</td><td>Cardiovascular Diseases</td><td>Coronary Heart Disease</td><td>...</td><td>NA</td><td>3.2</td><td>5.2</td><td>C1</td><td>T4</td><td>NS001</td><td>BOC03</td><td>AGE05</td><td>103</td><td>NA</td></tr>\n",
       "\t<tr><th scope=row>5</th><td>2000</td><td>MDW</td><td>Midwest</td><td>NHIS</td><td>Million HeartsÂ®</td><td>None</td><td>None</td><td>None</td><td>Cardiovascular Diseases</td><td>Coronary Heart Disease</td><td>...</td><td>NA</td><td>3.3</td><td>4.4</td><td>C1</td><td>T4</td><td>NS001</td><td>BOC01</td><td>OVR01</td><td>103</td><td>NA</td></tr>\n",
       "\t<tr><th scope=row>6</th><td>2000</td><td>MDW</td><td>Midwest</td><td>NHIS</td><td>Million HeartsÂ®</td><td>None</td><td>None</td><td>None</td><td>Cardiovascular Diseases</td><td>Coronary Heart Disease</td><td>...</td><td>NA</td><td>2.1</td><td>4.5</td><td>C1</td><td>T4</td><td>NS001</td><td>BOC04</td><td>RAC02</td><td>103</td><td>NA</td></tr>\n",
       "</tbody>\n",
       "</table>\n"
      ],
      "text/latex": [
       "A data.frame: 6 × 27\n",
       "\\begin{tabular}{r|lllllllllllllllllllll}\n",
       "  & Year & LocationAbbr & LocationDesc & DataSource & PriorityArea1 & PriorityArea2 & PriorityArea3 & PriorityArea4 & Category & Topic & ... & Data\\_Value\\_Footnote & Confidence\\_limit\\_Low & Confidence\\_limit\\_High & CategoryId & TopicId & IndicatorID & BreakOutCategoryId & BreakOutId & LocationID & GeoLocation\\\\\n",
       "  & <int> & <chr> & <chr> & <chr> & <chr> & <chr> & <chr> & <chr> & <chr> & <chr> & ... & <lgl> & <dbl> & <dbl> & <chr> & <chr> & <chr> & <chr> & <chr> & <int> & <lgl>\\\\\n",
       "\\hline\n",
       "\t1 & 2000 & MDW & Midwest & NHIS & Million HeartsÂ® & None & None & None & Cardiovascular Diseases & Coronary Heart Disease & ... & NA & 3.3 & 4.5 & C1 & T4 & NS001 & BOC04 & RAC01 & 103 & NA\\\\\n",
       "\t2 & 2000 & MDW & Midwest & NHIS & Million HeartsÂ® & None & None & None & Cardiovascular Diseases & Coronary Heart Disease & ... & NA & 2.2 & 3.4 & C1 & T4 & NS001 & BOC02 & GEN02 & 103 & NA\\\\\n",
       "\t3 & 2000 & MDW & Midwest & NHIS & Million HeartsÂ® & None & None & None & Cardiovascular Diseases & Coronary Heart Disease & ... & NA & 0.5 & 2.8 & C1 & T4 & NS001 & BOC04 & RAC04 & 103 & NA\\\\\n",
       "\t4 & 2000 & MDW & Midwest & NHIS & Million HeartsÂ® & None & None & None & Cardiovascular Diseases & Coronary Heart Disease & ... & NA & 3.2 & 5.2 & C1 & T4 & NS001 & BOC03 & AGE05 & 103 & NA\\\\\n",
       "\t5 & 2000 & MDW & Midwest & NHIS & Million HeartsÂ® & None & None & None & Cardiovascular Diseases & Coronary Heart Disease & ... & NA & 3.3 & 4.4 & C1 & T4 & NS001 & BOC01 & OVR01 & 103 & NA\\\\\n",
       "\t6 & 2000 & MDW & Midwest & NHIS & Million HeartsÂ® & None & None & None & Cardiovascular Diseases & Coronary Heart Disease & ... & NA & 2.1 & 4.5 & C1 & T4 & NS001 & BOC04 & RAC02 & 103 & NA\\\\\n",
       "\\end{tabular}\n"
      ],
      "text/markdown": [
       "\n",
       "A data.frame: 6 × 27\n",
       "\n",
       "| <!--/--> | Year &lt;int&gt; | LocationAbbr &lt;chr&gt; | LocationDesc &lt;chr&gt; | DataSource &lt;chr&gt; | PriorityArea1 &lt;chr&gt; | PriorityArea2 &lt;chr&gt; | PriorityArea3 &lt;chr&gt; | PriorityArea4 &lt;chr&gt; | Category &lt;chr&gt; | Topic &lt;chr&gt; | ... ... | Data_Value_Footnote &lt;lgl&gt; | Confidence_limit_Low &lt;dbl&gt; | Confidence_limit_High &lt;dbl&gt; | CategoryId &lt;chr&gt; | TopicId &lt;chr&gt; | IndicatorID &lt;chr&gt; | BreakOutCategoryId &lt;chr&gt; | BreakOutId &lt;chr&gt; | LocationID &lt;int&gt; | GeoLocation &lt;lgl&gt; |\n",
       "|---|---|---|---|---|---|---|---|---|---|---|---|---|---|---|---|---|---|---|---|---|---|\n",
       "| 1 | 2000 | MDW | Midwest | NHIS | Million HeartsÂ® | None | None | None | Cardiovascular Diseases | Coronary Heart Disease | ... | NA | 3.3 | 4.5 | C1 | T4 | NS001 | BOC04 | RAC01 | 103 | NA |\n",
       "| 2 | 2000 | MDW | Midwest | NHIS | Million HeartsÂ® | None | None | None | Cardiovascular Diseases | Coronary Heart Disease | ... | NA | 2.2 | 3.4 | C1 | T4 | NS001 | BOC02 | GEN02 | 103 | NA |\n",
       "| 3 | 2000 | MDW | Midwest | NHIS | Million HeartsÂ® | None | None | None | Cardiovascular Diseases | Coronary Heart Disease | ... | NA | 0.5 | 2.8 | C1 | T4 | NS001 | BOC04 | RAC04 | 103 | NA |\n",
       "| 4 | 2000 | MDW | Midwest | NHIS | Million HeartsÂ® | None | None | None | Cardiovascular Diseases | Coronary Heart Disease | ... | NA | 3.2 | 5.2 | C1 | T4 | NS001 | BOC03 | AGE05 | 103 | NA |\n",
       "| 5 | 2000 | MDW | Midwest | NHIS | Million HeartsÂ® | None | None | None | Cardiovascular Diseases | Coronary Heart Disease | ... | NA | 3.3 | 4.4 | C1 | T4 | NS001 | BOC01 | OVR01 | 103 | NA |\n",
       "| 6 | 2000 | MDW | Midwest | NHIS | Million HeartsÂ® | None | None | None | Cardiovascular Diseases | Coronary Heart Disease | ... | NA | 2.1 | 4.5 | C1 | T4 | NS001 | BOC04 | RAC02 | 103 | NA |\n",
       "\n"
      ],
      "text/plain": [
       "  Year LocationAbbr LocationDesc DataSource PriorityArea1    PriorityArea2\n",
       "1 2000 MDW          Midwest      NHIS       Million HeartsÂ® None         \n",
       "2 2000 MDW          Midwest      NHIS       Million HeartsÂ® None         \n",
       "3 2000 MDW          Midwest      NHIS       Million HeartsÂ® None         \n",
       "4 2000 MDW          Midwest      NHIS       Million HeartsÂ® None         \n",
       "5 2000 MDW          Midwest      NHIS       Million HeartsÂ® None         \n",
       "6 2000 MDW          Midwest      NHIS       Million HeartsÂ® None         \n",
       "  PriorityArea3 PriorityArea4 Category                Topic                 \n",
       "1 None          None          Cardiovascular Diseases Coronary Heart Disease\n",
       "2 None          None          Cardiovascular Diseases Coronary Heart Disease\n",
       "3 None          None          Cardiovascular Diseases Coronary Heart Disease\n",
       "4 None          None          Cardiovascular Diseases Coronary Heart Disease\n",
       "5 None          None          Cardiovascular Diseases Coronary Heart Disease\n",
       "6 None          None          Cardiovascular Diseases Coronary Heart Disease\n",
       "  ... Data_Value_Footnote Confidence_limit_Low Confidence_limit_High CategoryId\n",
       "1 ... NA                  3.3                  4.5                   C1        \n",
       "2 ... NA                  2.2                  3.4                   C1        \n",
       "3 ... NA                  0.5                  2.8                   C1        \n",
       "4 ... NA                  3.2                  5.2                   C1        \n",
       "5 ... NA                  3.3                  4.4                   C1        \n",
       "6 ... NA                  2.1                  4.5                   C1        \n",
       "  TopicId IndicatorID BreakOutCategoryId BreakOutId LocationID GeoLocation\n",
       "1 T4      NS001       BOC04              RAC01      103        NA         \n",
       "2 T4      NS001       BOC02              GEN02      103        NA         \n",
       "3 T4      NS001       BOC04              RAC04      103        NA         \n",
       "4 T4      NS001       BOC03              AGE05      103        NA         \n",
       "5 T4      NS001       BOC01              OVR01      103        NA         \n",
       "6 T4      NS001       BOC04              RAC02      103        NA         "
      ]
     },
     "metadata": {},
     "output_type": "display_data"
    }
   ],
   "source": [
    "head(df1)"
   ]
  },
  {
   "cell_type": "code",
   "execution_count": 35,
   "metadata": {},
   "outputs": [
    {
     "data": {
      "text/html": [
       "<table>\n",
       "<caption>A matrix: 6 × 27 of type chr</caption>\n",
       "<thead>\n",
       "\t<tr><th scope=col>Year</th><th scope=col>LocationAbbr</th><th scope=col>LocationDesc</th><th scope=col>DataSource</th><th scope=col>PriorityArea1</th><th scope=col>PriorityArea2</th><th scope=col>PriorityArea3</th><th scope=col>PriorityArea4</th><th scope=col>Category</th><th scope=col>Topic</th><th scope=col>...</th><th scope=col>Data_Value_Footnote</th><th scope=col>Confidence_limit_Low</th><th scope=col>Confidence_limit_High</th><th scope=col>CategoryId</th><th scope=col>TopicId</th><th scope=col>IndicatorID</th><th scope=col>BreakOutCategoryId</th><th scope=col>BreakOutId</th><th scope=col>LocationID</th><th scope=col>GeoLocation</th></tr>\n",
       "</thead>\n",
       "<tbody>\n",
       "\t<tr><td>2000</td><td>MDW</td><td>Midwest</td><td>NHIS</td><td>Million HeartsÂ®</td><td>None</td><td>None</td><td>None</td><td>Cardiovascular Diseases</td><td>Coronary Heart Disease</td><td>...</td><td>NA</td><td> 3.3</td><td> 4.5</td><td>C1</td><td>T4</td><td>NS001</td><td>BOC04</td><td>RAC01</td><td>103</td><td>NA</td></tr>\n",
       "\t<tr><td>2000</td><td>MDW</td><td>Midwest</td><td>NHIS</td><td>Million HeartsÂ®</td><td>None</td><td>None</td><td>None</td><td>Cardiovascular Diseases</td><td>Coronary Heart Disease</td><td>...</td><td>NA</td><td> 2.2</td><td> 3.4</td><td>C1</td><td>T4</td><td>NS001</td><td>BOC02</td><td>GEN02</td><td>103</td><td>NA</td></tr>\n",
       "\t<tr><td>2000</td><td>MDW</td><td>Midwest</td><td>NHIS</td><td>Million HeartsÂ®</td><td>None</td><td>None</td><td>None</td><td>Cardiovascular Diseases</td><td>Coronary Heart Disease</td><td>...</td><td>NA</td><td> 0.5</td><td> 2.8</td><td>C1</td><td>T4</td><td>NS001</td><td>BOC04</td><td>RAC04</td><td>103</td><td>NA</td></tr>\n",
       "\t<tr><td>2000</td><td>MDW</td><td>Midwest</td><td>NHIS</td><td>Million HeartsÂ®</td><td>None</td><td>None</td><td>None</td><td>Cardiovascular Diseases</td><td>Coronary Heart Disease</td><td>...</td><td>NA</td><td> 3.2</td><td> 5.2</td><td>C1</td><td>T4</td><td>NS001</td><td>BOC03</td><td>AGE05</td><td>103</td><td>NA</td></tr>\n",
       "\t<tr><td>2000</td><td>MDW</td><td>Midwest</td><td>NHIS</td><td>Million HeartsÂ®</td><td>None</td><td>None</td><td>None</td><td>Cardiovascular Diseases</td><td>Coronary Heart Disease</td><td>...</td><td>NA</td><td> 3.3</td><td> 4.4</td><td>C1</td><td>T4</td><td>NS001</td><td>BOC01</td><td>OVR01</td><td>103</td><td>NA</td></tr>\n",
       "\t<tr><td>2000</td><td>MDW</td><td>Midwest</td><td>NHIS</td><td>Million HeartsÂ®</td><td>None</td><td>None</td><td>None</td><td>Cardiovascular Diseases</td><td>Coronary Heart Disease</td><td>...</td><td>NA</td><td> 2.1</td><td> 4.5</td><td>C1</td><td>T4</td><td>NS001</td><td>BOC04</td><td>RAC02</td><td>103</td><td>NA</td></tr>\n",
       "</tbody>\n",
       "</table>\n"
      ],
      "text/latex": [
       "A matrix: 6 × 27 of type chr\n",
       "\\begin{tabular}{lllllllllllllllllllll}\n",
       " Year & LocationAbbr & LocationDesc & DataSource & PriorityArea1 & PriorityArea2 & PriorityArea3 & PriorityArea4 & Category & Topic & ... & Data\\_Value\\_Footnote & Confidence\\_limit\\_Low & Confidence\\_limit\\_High & CategoryId & TopicId & IndicatorID & BreakOutCategoryId & BreakOutId & LocationID & GeoLocation\\\\\n",
       "\\hline\n",
       "\t 2000 & MDW & Midwest & NHIS & Million HeartsÂ® & None & None & None & Cardiovascular Diseases & Coronary Heart Disease & ... & NA &  3.3 &  4.5 & C1 & T4 & NS001 & BOC04 & RAC01 & 103 & NA\\\\\n",
       "\t 2000 & MDW & Midwest & NHIS & Million HeartsÂ® & None & None & None & Cardiovascular Diseases & Coronary Heart Disease & ... & NA &  2.2 &  3.4 & C1 & T4 & NS001 & BOC02 & GEN02 & 103 & NA\\\\\n",
       "\t 2000 & MDW & Midwest & NHIS & Million HeartsÂ® & None & None & None & Cardiovascular Diseases & Coronary Heart Disease & ... & NA &  0.5 &  2.8 & C1 & T4 & NS001 & BOC04 & RAC04 & 103 & NA\\\\\n",
       "\t 2000 & MDW & Midwest & NHIS & Million HeartsÂ® & None & None & None & Cardiovascular Diseases & Coronary Heart Disease & ... & NA &  3.2 &  5.2 & C1 & T4 & NS001 & BOC03 & AGE05 & 103 & NA\\\\\n",
       "\t 2000 & MDW & Midwest & NHIS & Million HeartsÂ® & None & None & None & Cardiovascular Diseases & Coronary Heart Disease & ... & NA &  3.3 &  4.4 & C1 & T4 & NS001 & BOC01 & OVR01 & 103 & NA\\\\\n",
       "\t 2000 & MDW & Midwest & NHIS & Million HeartsÂ® & None & None & None & Cardiovascular Diseases & Coronary Heart Disease & ... & NA &  2.1 &  4.5 & C1 & T4 & NS001 & BOC04 & RAC02 & 103 & NA\\\\\n",
       "\\end{tabular}\n"
      ],
      "text/markdown": [
       "\n",
       "A matrix: 6 × 27 of type chr\n",
       "\n",
       "| Year | LocationAbbr | LocationDesc | DataSource | PriorityArea1 | PriorityArea2 | PriorityArea3 | PriorityArea4 | Category | Topic | ... | Data_Value_Footnote | Confidence_limit_Low | Confidence_limit_High | CategoryId | TopicId | IndicatorID | BreakOutCategoryId | BreakOutId | LocationID | GeoLocation |\n",
       "|---|---|---|---|---|---|---|---|---|---|---|---|---|---|---|---|---|---|---|---|---|\n",
       "| 2000 | MDW | Midwest | NHIS | Million HeartsÂ® | None | None | None | Cardiovascular Diseases | Coronary Heart Disease | ... | NA |  3.3 |  4.5 | C1 | T4 | NS001 | BOC04 | RAC01 | 103 | NA |\n",
       "| 2000 | MDW | Midwest | NHIS | Million HeartsÂ® | None | None | None | Cardiovascular Diseases | Coronary Heart Disease | ... | NA |  2.2 |  3.4 | C1 | T4 | NS001 | BOC02 | GEN02 | 103 | NA |\n",
       "| 2000 | MDW | Midwest | NHIS | Million HeartsÂ® | None | None | None | Cardiovascular Diseases | Coronary Heart Disease | ... | NA |  0.5 |  2.8 | C1 | T4 | NS001 | BOC04 | RAC04 | 103 | NA |\n",
       "| 2000 | MDW | Midwest | NHIS | Million HeartsÂ® | None | None | None | Cardiovascular Diseases | Coronary Heart Disease | ... | NA |  3.2 |  5.2 | C1 | T4 | NS001 | BOC03 | AGE05 | 103 | NA |\n",
       "| 2000 | MDW | Midwest | NHIS | Million HeartsÂ® | None | None | None | Cardiovascular Diseases | Coronary Heart Disease | ... | NA |  3.3 |  4.4 | C1 | T4 | NS001 | BOC01 | OVR01 | 103 | NA |\n",
       "| 2000 | MDW | Midwest | NHIS | Million HeartsÂ® | None | None | None | Cardiovascular Diseases | Coronary Heart Disease | ... | NA |  2.1 |  4.5 | C1 | T4 | NS001 | BOC04 | RAC02 | 103 | NA |\n",
       "\n"
      ],
      "text/plain": [
       "     Year LocationAbbr LocationDesc DataSource PriorityArea1    PriorityArea2\n",
       "[1,] 2000 MDW          Midwest      NHIS       Million HeartsÂ® None         \n",
       "[2,] 2000 MDW          Midwest      NHIS       Million HeartsÂ® None         \n",
       "[3,] 2000 MDW          Midwest      NHIS       Million HeartsÂ® None         \n",
       "[4,] 2000 MDW          Midwest      NHIS       Million HeartsÂ® None         \n",
       "[5,] 2000 MDW          Midwest      NHIS       Million HeartsÂ® None         \n",
       "[6,] 2000 MDW          Midwest      NHIS       Million HeartsÂ® None         \n",
       "     PriorityArea3 PriorityArea4 Category                Topic                 \n",
       "[1,] None          None          Cardiovascular Diseases Coronary Heart Disease\n",
       "[2,] None          None          Cardiovascular Diseases Coronary Heart Disease\n",
       "[3,] None          None          Cardiovascular Diseases Coronary Heart Disease\n",
       "[4,] None          None          Cardiovascular Diseases Coronary Heart Disease\n",
       "[5,] None          None          Cardiovascular Diseases Coronary Heart Disease\n",
       "[6,] None          None          Cardiovascular Diseases Coronary Heart Disease\n",
       "     ... Data_Value_Footnote Confidence_limit_Low Confidence_limit_High\n",
       "[1,] ... NA                   3.3                  4.5                 \n",
       "[2,] ... NA                   2.2                  3.4                 \n",
       "[3,] ... NA                   0.5                  2.8                 \n",
       "[4,] ... NA                   3.2                  5.2                 \n",
       "[5,] ... NA                   3.3                  4.4                 \n",
       "[6,] ... NA                   2.1                  4.5                 \n",
       "     CategoryId TopicId IndicatorID BreakOutCategoryId BreakOutId LocationID\n",
       "[1,] C1         T4      NS001       BOC04              RAC01      103       \n",
       "[2,] C1         T4      NS001       BOC02              GEN02      103       \n",
       "[3,] C1         T4      NS001       BOC04              RAC04      103       \n",
       "[4,] C1         T4      NS001       BOC03              AGE05      103       \n",
       "[5,] C1         T4      NS001       BOC01              OVR01      103       \n",
       "[6,] C1         T4      NS001       BOC04              RAC02      103       \n",
       "     GeoLocation\n",
       "[1,] NA         \n",
       "[2,] NA         \n",
       "[3,] NA         \n",
       "[4,] NA         \n",
       "[5,] NA         \n",
       "[6,] NA         "
      ]
     },
     "metadata": {},
     "output_type": "display_data"
    }
   ],
   "source": [
    "# Ensure that the spelling of the columns are the same\n",
    "names(df2) = names(df1)"
   ]
  },
  {
   "cell_type": "code",
   "execution_count": null,
   "metadata": {},
   "outputs": [],
   "source": [
    "# Transpose the dataframes and then combine them\n",
    "DFtranspose <- cbind(t(df1), t(df2))\n",
    "rownames(DFtranspose) <- names(df1)"
   ]
  },
  {
   "cell_type": "code",
   "execution_count": null,
   "metadata": {},
   "outputs": [],
   "source": [
    "# Convert the full dataframe back to normal\n",
    "fulldf = t(DFtranspose)\n",
    "\n",
    "# Assign the column names to the full dataframe\n",
    "names(fulldf) = names(df1)"
   ]
  },
  {
   "cell_type": "code",
   "execution_count": null,
   "metadata": {},
   "outputs": [],
   "source": []
  }
 ],
 "metadata": {
  "kernelspec": {
   "display_name": "R",
   "language": "R",
   "name": "ir"
  },
  "language_info": {
   "codemirror_mode": "r",
   "file_extension": ".r",
   "mimetype": "text/x-r-source",
   "name": "R",
   "pygments_lexer": "r",
   "version": "4.0.0"
  }
 },
 "nbformat": 4,
 "nbformat_minor": 4
}
