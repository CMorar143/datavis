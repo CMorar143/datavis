{
 "cells": [
  {
   "cell_type": "code",
   "execution_count": null,
   "metadata": {},
   "outputs": [],
   "source": [
    "# Name: Cian Morar\n",
    "# Student Num: C16460726"
   ]
  },
  {
   "cell_type": "code",
   "execution_count": null,
   "metadata": {},
   "outputs": [],
   "source": [
    "# Load in libraries\n",
    "library(dplyr)\n",
    "library(plyr)\n",
    "library(ggplot2)\n",
    "library(ggpubr)"
   ]
  },
  {
   "cell_type": "code",
   "execution_count": 3,
   "metadata": {},
   "outputs": [],
   "source": [
    "# Load in the datasets\n",
    "df1 = read.csv(\"./Data/National_Health_Interview_Survey_NHIS_National_Cardiovascular_Disease_Surveillance_Data\", header=TRUE, sep=',', fileEncoding=\"latin1\")\n",
    "df2 = read.csv(\"./Data/Behavioral_Risk_Factor_Data_Heart_Disease_Stroke_Prevention.csv\", header=TRUE, sep=',', fileEncoding=\"latin1\")"
   ]
  },
  {
   "cell_type": "code",
   "execution_count": null,
   "metadata": {},
   "outputs": [],
   "source": []
  }
 ],
 "metadata": {
  "kernelspec": {
   "display_name": "R",
   "language": "R",
   "name": "ir"
  },
  "language_info": {
   "codemirror_mode": "r",
   "file_extension": ".r",
   "mimetype": "text/x-r-source",
   "name": "R",
   "pygments_lexer": "r",
   "version": "3.6.2"
  }
 },
 "nbformat": 4,
 "nbformat_minor": 4
}
